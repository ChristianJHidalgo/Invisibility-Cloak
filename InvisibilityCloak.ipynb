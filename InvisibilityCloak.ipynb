{
 "cells": [
  {
   "cell_type": "code",
   "execution_count": 1,
   "metadata": {},
   "outputs": [],
   "source": [
    "#Importing our libraries\n",
    "\n",
    "import numpy as np\n",
    "import cv2\n",
    "import time"
   ]
  },
  {
   "cell_type": "code",
   "execution_count": 2,
   "metadata": {},
   "outputs": [],
   "source": [
    "#selecting in built webcam\n",
    "cap= cv2.VideoCapture(0) \n",
    "time.sleep(2)\n",
    "background = 0"
   ]
  },
  {
   "cell_type": "code",
   "execution_count": null,
   "metadata": {},
   "outputs": [],
   "source": [
    "#cap.read() returns 2 things: image and boolean return value, if ret is True, read is working fine \n",
    "#CAPTURING THE BACKGROUND HERE\n",
    "for i in range(30):\n",
    "#We have given 30 iterations so that it can capture the background in nice detail\n",
    "    ret, background= cap.read() # here we are capturing the background\n",
    "\n",
    "#This code will run unless the cap is running \n",
    "while(cap.isOpened()):    \n",
    "    ret, img= cap.read() #Capturing our image to perform operation on it\n",
    "    if not ret: #This will happen when the camera is switched off\n",
    "        break;\n",
    "    \n",
    "    hsv= cv2.cvtColor(img, cv2.COLOR_BGR2HSV)\n",
    "    lower_red = np.array([0, 120, 70])\n",
    "    upper_red = np.array([10, 255, 255])\n",
    "    #We are separating out the cloak part here\n",
    "    mask1 = cv2.inRange(hsv, lower_red, upper_red)\n",
    "\n",
    "    \n",
    "    lower_red = np.array([170, 120, 70])\n",
    "    upper_red = np.array([180, 255, 255])\n",
    "    #We are separating out the cloak part here\n",
    "    mask2 = cv2.inRange(hsv, lower_red, upper_red)\n",
    "\n",
    "    #Now we will overload the + for OR function\n",
    "    mask1 = mask1+mask2\n",
    "\n",
    "    \n"
   ]
  }
 ],
 "metadata": {
  "kernelspec": {
   "display_name": "Python 3.8.3 64-bit",
   "language": "python",
   "name": "python_defaultSpec_1594751572725"
  },
  "language_info": {
   "codemirror_mode": {
    "name": "ipython",
    "version": 3
   },
   "file_extension": ".py",
   "mimetype": "text/x-python",
   "name": "python",
   "nbconvert_exporter": "python",
   "pygments_lexer": "ipython3",
   "version": "3.7.6"
  }
 },
 "nbformat": 4,
 "nbformat_minor": 4
}